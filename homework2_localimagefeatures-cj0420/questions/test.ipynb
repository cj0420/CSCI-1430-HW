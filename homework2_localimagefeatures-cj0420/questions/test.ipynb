{
 "cells": [
  {
   "cell_type": "code",
   "execution_count": 10,
   "metadata": {},
   "outputs": [],
   "source": [
    "import numpy as np\n",
    "from skimage import io\n"
   ]
  },
  {
   "cell_type": "code",
   "execution_count": 3,
   "metadata": {},
   "outputs": [],
   "source": [
    "from numpy import dot\n",
    "from numpy.linalg import norm\n",
    "a=[1,1,1,1]\n",
    "b=[2,1,2,0]\n",
    "cos_sim = dot(a, b)/(norm(a)*norm(b))"
   ]
  },
  {
   "cell_type": "code",
   "execution_count": 4,
   "metadata": {},
   "outputs": [
    {
     "data": {
      "text/plain": [
       "0.8333333333333334"
      ]
     },
     "execution_count": 4,
     "metadata": {},
     "output_type": "execute_result"
    }
   ],
   "source": [
    "cos_sim"
   ]
  },
  {
   "cell_type": "code",
   "execution_count": 17,
   "metadata": {},
   "outputs": [],
   "source": [
    "image = io.imread(\"/Users/mac_cha/Desktop/Projects/CSCI1430_ComputerVision/homework2_localimagefeatures-cj0420/questions/images/RISDance.jpg\")"
   ]
  },
  {
   "cell_type": "code",
   "execution_count": 18,
   "metadata": {},
   "outputs": [
    {
     "ename": "TypeError",
     "evalue": "'numpy.ndarray' object is not callable",
     "output_type": "error",
     "traceback": [
      "\u001b[0;31m---------------------------------------------------------------------------\u001b[0m",
      "\u001b[0;31mTypeError\u001b[0m                                 Traceback (most recent call last)",
      "\u001b[1;32m/Users/mac_cha/Desktop/Projects/CSCI1430_ComputerVision/homework2_localimagefeatures-cj0420/questions/test.ipynb Cell 3\u001b[0m in \u001b[0;36m<cell line: 2>\u001b[0;34m()\u001b[0m\n\u001b[1;32m      <a href='vscode-notebook-cell:/Users/mac_cha/Desktop/Projects/CSCI1430_ComputerVision/homework2_localimagefeatures-cj0420/questions/test.ipynb#W5sZmlsZQ%3D%3D?line=0'>1</a>\u001b[0m grad_x \u001b[39m=\u001b[39m \u001b[39mfilter\u001b[39m(image, \u001b[39m\"\u001b[39m\u001b[39msobelX\u001b[39m\u001b[39m\"\u001b[39m)\n\u001b[0;32m----> <a href='vscode-notebook-cell:/Users/mac_cha/Desktop/Projects/CSCI1430_ComputerVision/homework2_localimagefeatures-cj0420/questions/test.ipynb#W5sZmlsZQ%3D%3D?line=1'>2</a>\u001b[0m \u001b[39mprint\u001b[39m(\u001b[39mlist\u001b[39;49m(grad_x))\n",
      "\u001b[0;31mTypeError\u001b[0m: 'numpy.ndarray' object is not callable"
     ]
    }
   ],
   "source": [
    "grad_x = filter(image, \"sobelX\")\n",
    "print(list(grad_x))"
   ]
  },
  {
   "cell_type": "code",
   "execution_count": 2,
   "metadata": {},
   "outputs": [
    {
     "ename": "SyntaxError",
     "evalue": "invalid syntax (2935757957.py, line 6)",
     "output_type": "error",
     "traceback": [
      "\u001b[0;36m  Input \u001b[0;32mIn [2]\u001b[0;36m\u001b[0m\n\u001b[0;31m    grad_mag = np.sqrt(grad_x .^2 + grad_y.^2)\u001b[0m\n\u001b[0m                               ^\u001b[0m\n\u001b[0;31mSyntaxError\u001b[0m\u001b[0;31m:\u001b[0m invalid syntax\n"
     ]
    }
   ],
   "source": [
    "# You can assume access to the image, x and y gradients, \n",
    "# and their magnitudes/orientations.\n",
    "image = io.imre)\n",
    "grad_x = filter(image, \"sobelX\")\n",
    "grad_y = filter(image, \"sobelY\")\n",
    "grad_mag = np.sqrt(grad_x .^2 + grad_y.^2)\n",
    "grad_ori = atan2(grad_y, grad_x)\n",
    "\n",
    "# Takes in a interest point x,y location and returns \n",
    "# a feature descriptor\n",
    "def SIFTdescriptor(x, y)\n",
    "    descriptor = zeros(128,1)\n",
    "    \n",
    "    # TODO: Populate descriptor with the right gradient \n",
    "    # magnitudes dependent on the gradient orientations\n",
    "\n",
    "\n",
    "\n",
    "    \n",
    "    \n",
    "    \n",
    "    \n",
    "    \n",
    "    \n",
    "    ################################################\n",
    "    # YOU MAY USE THIS ADDITIONAL PAGE\n",
    "\n",
    "    # WARNING: IF YOU DON'T END UP USING THIS PAGE\n",
    "    # KEEP THESE COMMENTS TO MAINTAIN PAGE ALIGNMENT\n",
    "    ################################################\n",
    "\n",
    "    return descriptor"
   ]
  },
  {
   "cell_type": "code",
   "execution_count": null,
   "metadata": {},
   "outputs": [],
   "source": [
    "# You can assume access to the image, x and y gradients, \n",
    "# and their magnitudes/orientations.\n",
    "image = imread(\"rara.jpg\")\n",
    "grad_x = filter(image, \"sobelX\")\n",
    "grad_y = filter(image, \"sobelY\")\n",
    "grad_mag = sqrt(grad_x .^2 + grad_y.^2)\n",
    "grad_ori = atan2(grad_y, grad_x)\n",
    "\n",
    "# Takes in a interest point x,y location and returns \n",
    "# a feature descriptor\n",
    "def SIFTdescriptor(x, y)\n",
    "    descriptor = zeros(128,1)\n",
    "    ls = [-2, -1, 0, 1]\n",
    "    cnt = 0\n",
    "    \n",
    "    for i in ls:\n",
    "        for j in ls:\n",
    "            g_mag = grad_mag[y+i][x+j]\n",
    "            g_ori = grad_ori[y+i][x+j]\n",
    "            hist_list = make_histogram(g_mag, g_ori)\n",
    "            for k in range(8):\n",
    "                descriptor[cnt] = hist_list[k]\n",
    "                cnt += 1\n",
    "            \n",
    "\n",
    "\n",
    "\n",
    "    \n",
    "    \n",
    "    \n",
    "    \n",
    "    \n",
    "    \n",
    "    ################################################\n",
    "    # YOU MAY USE THIS ADDITIONAL PAGE\n",
    "\n",
    "    # WARNING: IF YOU DON'T END UP USING THIS PAGE\n",
    "    # KEEP THESE COMMENTS TO MAINTAIN PAGE ALIGNMENT\n",
    "    ################################################\n",
    "\n",
    "    return descriptor"
   ]
  },
  {
   "cell_type": "code",
   "execution_count": null,
   "metadata": {},
   "outputs": [],
   "source": []
  },
  {
   "cell_type": "code",
   "execution_count": 3,
   "metadata": {},
   "outputs": [
    {
     "data": {
      "image/png": "[encoded data removed]",
      "text/plain": [
       "<Figure size 432x288 with 1 Axes>"
      ]
     },
     "metadata": {
      "needs_background": "light"
     },
     "output_type": "display_data"
    }
   ],
   "source": [
    "import numpy as np\n",
    "import matplotlib.pyplot as plt\n",
    "\n",
    "eunsol = np.linspace(0,2*np.pi,100)\n",
    "\n",
    "moon_x = 16*(np.sin(eunsol)**3)\n",
    "moon_y = 13*np.cos(eunsol) - 5*np.cos(2*eunsol) - 2*np.cos(3*eunsol) - np.cos(4*eunsol)\n",
    "\n",
    "plt.plot(moon_x, moon_y)\n",
    "plt.title('I love you baby')\n",
    "plt.show()"
   ]
  }
 ],
 "metadata": {
  "kernelspec": {
   "display_name": "Python 3.9.13 64-bit",
   "language": "python",
   "name": "python3"
  },
  "language_info": {
   "codemirror_mode": {
    "name": "ipython",
    "version": 3
   },
   "file_extension": ".py",
   "mimetype": "text/x-python",
   "name": "python",
   "nbconvert_exporter": "python",
   "pygments_lexer": "ipython3",
   "version": "3.9.13"
  },
  "orig_nbformat": 4,
  "vscode": {
   "interpreter": {
    "hash": "b0fa6594d8f4cbf19f97940f81e996739fb7646882a419484c72d19e05852a7e"
   }
  }
 },
 "nbformat": 4,
 "nbformat_minor": 2
}
